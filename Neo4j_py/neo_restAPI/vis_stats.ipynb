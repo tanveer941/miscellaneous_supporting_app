{
 "cells": [
  {
   "cell_type": "code",
   "execution_count": 37,
   "metadata": {
    "collapsed": true
   },
   "outputs": [],
   "source": [
    "dt = {'Function': ['SR  '], 'WeatherCondition': ['Dry'], \n",
    "      'RecName': 'Continuous_2011.02.10_at_15.30.37.rec', 'Country': ['USA'], 'Project': ['MFC400'],\n",
    "      'RoadType': ['Country_Road'], 'Objects': ['Other_Diamond_Sign_Similar', 'Other_Rectangular_Sign_Similar', 'Stop', \n",
    "                                                'US_Speed_Limit_045', 'US_Speed_Limit_055'],\n",
    "      'LightCondition': ['Day'], 'Department': ['DEV']\n",
    "      }"
   ]
  },
  {
   "cell_type": "code",
   "execution_count": 38,
   "metadata": {
    "collapsed": false
   },
   "outputs": [
    {
     "data": {
      "text/plain": [
       "{'Country': ['USA'],\n",
       " 'Department': ['DEV'],\n",
       " 'Function': ['SR  '],\n",
       " 'LightCondition': ['Day'],\n",
       " 'Objects': ['Other_Diamond_Sign_Similar',\n",
       "  'Other_Rectangular_Sign_Similar',\n",
       "  'Stop',\n",
       "  'US_Speed_Limit_045',\n",
       "  'US_Speed_Limit_055'],\n",
       " 'Project': ['MFC400'],\n",
       " 'RecName': 'Continuous_2011.02.10_at_15.30.37.rec',\n",
       " 'RoadType': ['Country_Road'],\n",
       " 'WeatherCondition': ['Dry']}"
      ]
     },
     "execution_count": 38,
     "metadata": {},
     "output_type": "execute_result"
    }
   ],
   "source": [
    "dt"
   ]
  },
  {
   "cell_type": "code",
   "execution_count": 46,
   "metadata": {
    "collapsed": false,
    "scrolled": true
   },
   "outputs": [],
   "source": [
    "# import matplotlib.pyplot as plt\n",
    "# import numpy as np\n",
    "# import seaborn as sns\n",
    "\n",
    "# x=[1,1000,1001]\n",
    "# y=[200,300,400]\n",
    "# sns.set_context(rc={\"figure.figsize\": (8, 4)})\n",
    "# nd = np.arange(3)\n",
    "# width=0.8\n",
    "# plt.xticks(nd+width/2., ('1','1000','1001'))\n",
    "# plt.xlim(-0.15,3)\n",
    "# fig = plt.bar(nd, y, color=sns.color_palette(\"Blues\",3))\n",
    "# plt.legend(fig, ['First','Second','Third'], loc = \"upper left\", title = \"cat\")\n",
    "# plt.show()"
   ]
  },
  {
   "cell_type": "code",
   "execution_count": null,
   "metadata": {
    "collapsed": false,
    "scrolled": true
   },
   "outputs": [],
   "source": []
  },
  {
   "cell_type": "code",
   "execution_count": null,
   "metadata": {
    "collapsed": false,
    "scrolled": true
   },
   "outputs": [],
   "source": []
  },
  {
   "cell_type": "code",
   "execution_count": null,
   "metadata": {
    "collapsed": true
   },
   "outputs": [],
   "source": []
  }
 ],
 "metadata": {
  "kernelspec": {
   "display_name": "Python 2",
   "language": "python",
   "name": "python2"
  },
  "language_info": {
   "codemirror_mode": {
    "name": "ipython",
    "version": 2
   },
   "file_extension": ".py",
   "mimetype": "text/x-python",
   "name": "python",
   "nbconvert_exporter": "python",
   "pygments_lexer": "ipython2",
   "version": "2.7.5"
  }
 },
 "nbformat": 4,
 "nbformat_minor": 2
}
